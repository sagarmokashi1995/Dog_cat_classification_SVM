{
 "cells": [
  {
   "cell_type": "markdown",
   "id": "local-prescription",
   "metadata": {},
   "source": [
    "# Convolutional Neural Network\n"
   ]
  },
  {
   "cell_type": "code",
   "execution_count": null,
   "id": "accredited-fence",
   "metadata": {},
   "outputs": [],
   "source": [
    "# Importing the libraries\n",
    "import tensorflow as tf\n",
    "from tensorflow.keras.preprocessing.image import ImageDataGenerator"
   ]
  },
  {
   "cell_type": "code",
   "execution_count": 23,
   "id": "cleared-execution",
   "metadata": {},
   "outputs": [
    {
     "data": {
      "text/plain": [
       "'2.2.0'"
      ]
     },
     "execution_count": 23,
     "metadata": {},
     "output_type": "execute_result"
    }
   ],
   "source": [
    "tf.__version__\n"
   ]
  },
  {
   "cell_type": "markdown",
   "id": "anonymous-state",
   "metadata": {},
   "source": [
    "# Part 1 - Data Preprocessing\n"
   ]
  },
  {
   "cell_type": "code",
   "execution_count": 3,
   "id": "guilty-venture",
   "metadata": {},
   "outputs": [],
   "source": [
    "\n",
    "# Preprocessing the Training set\n",
    "train_datagen = ImageDataGenerator(rescale = 1./255,\n",
    "                                   shear_range = 0.2,\n",
    "                                   zoom_range = 0.2,\n",
    "                                   horizontal_flip = True)"
   ]
  },
  {
   "cell_type": "code",
   "execution_count": 4,
   "id": "advanced-implementation",
   "metadata": {},
   "outputs": [
    {
     "name": "stdout",
     "output_type": "stream",
     "text": [
      "Found 6002 images belonging to 2 classes.\n",
      "Found 2000 images belonging to 2 classes.\n"
     ]
    }
   ],
   "source": [
    "training_set = train_datagen.flow_from_directory('image_classification/train',\n",
    "                                                 target_size = (64, 64),\n",
    "                                                 batch_size = 32,\n",
    "                                                 class_mode = 'binary')\n",
    "\n",
    "# Preprocessing the Test set\n",
    "val_datagen = ImageDataGenerator(rescale = 1./255)\n",
    "val_set = val_datagen.flow_from_directory('image_classification/val',\n",
    "                                            target_size = (64, 64),\n",
    "                                            batch_size = 32,\n",
    "                                            class_mode = 'binary')"
   ]
  },
  {
   "cell_type": "code",
   "execution_count": 5,
   "id": "wanted-garbage",
   "metadata": {},
   "outputs": [],
   "source": [
    "\n",
    "from tensorflow.keras.layers import Conv2D\n",
    "from tensorflow.keras.layers import Dense\n",
    "from tensorflow.keras.regularizers import l2\n",
    "from PIL import Image\n",
    "import numpy as np\n",
    "from tensorflow.keras.preprocessing import image"
   ]
  },
  {
   "cell_type": "markdown",
   "id": "preliminary-daughter",
   "metadata": {},
   "source": [
    "# Part 2 - Building the CNN"
   ]
  },
  {
   "cell_type": "code",
   "execution_count": 6,
   "id": "generous-mailman",
   "metadata": {},
   "outputs": [],
   "source": [
    "\n",
    "# Initialising the CNN\n",
    "cnn = tf.keras.models.Sequential()\n",
    "\n",
    "# Step 1 - Convolution\n",
    "cnn.add(tf.keras.layers.Conv2D(filters=64,padding=\"same\",kernel_size=3, activation='relu', strides=2, input_shape=[64, 64, 3]))\n",
    "\n",
    "# Step 2 - Pooling\n",
    "cnn.add(tf.keras.layers.MaxPool2D(pool_size=2, strides=2))\n",
    "\n",
    "# Adding a second convolutional layer\n",
    "cnn.add(tf.keras.layers.Conv2D(filters=32,padding='same',kernel_size=3, activation='relu'))\n",
    "cnn.add(tf.keras.layers.MaxPool2D(pool_size=2, strides=2))\n",
    "\n",
    "# Step 3 - Flattening\n",
    "cnn.add(tf.keras.layers.Flatten())\n",
    "\n",
    "# Step 4 - Full Connection\n",
    "cnn.add(tf.keras.layers.Dense(units=128, activation='relu'))\n",
    "\n",
    "# Step 5 - Output Layer\n",
    "#cnn.add(tf.keras.layers.Dense(units=1, activation='sigmoid'))\n",
    "## For Binary Classification\n",
    "cnn.add(Dense(1, kernel_regularizer=tf.keras.regularizers.l2(0.01),activation\n",
    "             ='linear'))"
   ]
  },
  {
   "cell_type": "raw",
   "id": "amateur-single",
   "metadata": {},
   "source": [
    "## for multiclassification\n",
    "cnn.add(Dense(4, kernel_regularizer=tf.keras.regularizers.l2(0.01),activation\n",
    "             ='softmax'))\n",
    "cnn.compile(optimizer = 'adam', loss = 'squared_hinge', metrics = ['accuracy'])"
   ]
  },
  {
   "cell_type": "code",
   "execution_count": 7,
   "id": "measured-ideal",
   "metadata": {
    "scrolled": true
   },
   "outputs": [
    {
     "name": "stdout",
     "output_type": "stream",
     "text": [
      "Model: \"sequential\"\n",
      "_________________________________________________________________\n",
      "Layer (type)                 Output Shape              Param #   \n",
      "=================================================================\n",
      "conv2d (Conv2D)              (None, 32, 32, 64)        1792      \n",
      "_________________________________________________________________\n",
      "max_pooling2d (MaxPooling2D) (None, 16, 16, 64)        0         \n",
      "_________________________________________________________________\n",
      "conv2d_1 (Conv2D)            (None, 16, 16, 32)        18464     \n",
      "_________________________________________________________________\n",
      "max_pooling2d_1 (MaxPooling2 (None, 8, 8, 32)          0         \n",
      "_________________________________________________________________\n",
      "flatten (Flatten)            (None, 2048)              0         \n",
      "_________________________________________________________________\n",
      "dense (Dense)                (None, 128)               262272    \n",
      "_________________________________________________________________\n",
      "dense_1 (Dense)              (None, 1)                 129       \n",
      "=================================================================\n",
      "Total params: 282,657\n",
      "Trainable params: 282,657\n",
      "Non-trainable params: 0\n",
      "_________________________________________________________________\n"
     ]
    }
   ],
   "source": [
    "cnn.summary()\n"
   ]
  },
  {
   "cell_type": "markdown",
   "id": "lonely-civilian",
   "metadata": {},
   "source": [
    "# Part 3 - Training the CNN\n"
   ]
  },
  {
   "cell_type": "code",
   "execution_count": 8,
   "id": "muslim-accent",
   "metadata": {},
   "outputs": [
    {
     "name": "stdout",
     "output_type": "stream",
     "text": [
      "Epoch 1/30\n",
      "188/188 [==============================] - 23s 122ms/step - loss: 0.9543 - accuracy: 0.5347 - val_loss: 0.8265 - val_accuracy: 0.6595\n",
      "Epoch 2/30\n",
      "188/188 [==============================] - 22s 115ms/step - loss: 0.7622 - accuracy: 0.6461 - val_loss: 0.8501 - val_accuracy: 0.6730\n",
      "Epoch 3/30\n",
      "188/188 [==============================] - 21s 113ms/step - loss: 0.7083 - accuracy: 0.6678 - val_loss: 0.6756 - val_accuracy: 0.7045\n",
      "Epoch 4/30\n",
      "188/188 [==============================] - 22s 114ms/step - loss: 0.6695 - accuracy: 0.6846 - val_loss: 0.6426 - val_accuracy: 0.6990\n",
      "Epoch 5/30\n",
      "188/188 [==============================] - 21s 114ms/step - loss: 0.6282 - accuracy: 0.7091 - val_loss: 0.6598 - val_accuracy: 0.7465\n",
      "Epoch 6/30\n",
      "188/188 [==============================] - 21s 114ms/step - loss: 0.6119 - accuracy: 0.7161 - val_loss: 0.5920 - val_accuracy: 0.7330\n",
      "Epoch 7/30\n",
      "188/188 [==============================] - 21s 114ms/step - loss: 0.5916 - accuracy: 0.7258 - val_loss: 0.5725 - val_accuracy: 0.7600\n",
      "Epoch 8/30\n",
      "188/188 [==============================] - 21s 114ms/step - loss: 0.5684 - accuracy: 0.7391 - val_loss: 0.5578 - val_accuracy: 0.7620\n",
      "Epoch 9/30\n",
      "188/188 [==============================] - 22s 115ms/step - loss: 0.5439 - accuracy: 0.7486 - val_loss: 0.6121 - val_accuracy: 0.7700\n",
      "Epoch 10/30\n",
      "188/188 [==============================] - 21s 114ms/step - loss: 0.5331 - accuracy: 0.7544 - val_loss: 0.5854 - val_accuracy: 0.7745\n",
      "Epoch 11/30\n",
      "188/188 [==============================] - 22s 116ms/step - loss: 0.5247 - accuracy: 0.7602 - val_loss: 0.5703 - val_accuracy: 0.7830\n",
      "Epoch 12/30\n",
      "188/188 [==============================] - 21s 114ms/step - loss: 0.5046 - accuracy: 0.7694 - val_loss: 0.5008 - val_accuracy: 0.7665\n",
      "Epoch 13/30\n",
      "188/188 [==============================] - 21s 114ms/step - loss: 0.5091 - accuracy: 0.7579 - val_loss: 0.5141 - val_accuracy: 0.7865\n",
      "Epoch 14/30\n",
      "188/188 [==============================] - 22s 116ms/step - loss: 0.4850 - accuracy: 0.7777 - val_loss: 0.5035 - val_accuracy: 0.7820\n",
      "Epoch 15/30\n",
      "188/188 [==============================] - 22s 115ms/step - loss: 0.4846 - accuracy: 0.7794 - val_loss: 0.4933 - val_accuracy: 0.7690\n",
      "Epoch 16/30\n",
      "188/188 [==============================] - 22s 115ms/step - loss: 0.4727 - accuracy: 0.7787 - val_loss: 0.5612 - val_accuracy: 0.7830\n",
      "Epoch 17/30\n",
      "188/188 [==============================] - 22s 114ms/step - loss: 0.4816 - accuracy: 0.7794 - val_loss: 0.5027 - val_accuracy: 0.7790\n",
      "Epoch 18/30\n",
      "188/188 [==============================] - 21s 114ms/step - loss: 0.4550 - accuracy: 0.7901 - val_loss: 0.5489 - val_accuracy: 0.7930\n",
      "Epoch 19/30\n",
      "188/188 [==============================] - 23s 121ms/step - loss: 0.4534 - accuracy: 0.7949 - val_loss: 0.4931 - val_accuracy: 0.7670\n",
      "Epoch 20/30\n",
      "188/188 [==============================] - 23s 122ms/step - loss: 0.4372 - accuracy: 0.7997 - val_loss: 0.5228 - val_accuracy: 0.7950\n",
      "Epoch 21/30\n",
      "188/188 [==============================] - 23s 120ms/step - loss: 0.4361 - accuracy: 0.8012 - val_loss: 0.5057 - val_accuracy: 0.7715\n",
      "Epoch 22/30\n",
      "188/188 [==============================] - 22s 119ms/step - loss: 0.4225 - accuracy: 0.8047 - val_loss: 0.5223 - val_accuracy: 0.7945\n",
      "Epoch 23/30\n",
      "188/188 [==============================] - 23s 122ms/step - loss: 0.4298 - accuracy: 0.8066 - val_loss: 0.4919 - val_accuracy: 0.8035\n",
      "Epoch 24/30\n",
      "188/188 [==============================] - 23s 121ms/step - loss: 0.4179 - accuracy: 0.8111 - val_loss: 0.4881 - val_accuracy: 0.8005\n",
      "Epoch 25/30\n",
      "188/188 [==============================] - 23s 121ms/step - loss: 0.4002 - accuracy: 0.8176 - val_loss: 0.5721 - val_accuracy: 0.7975\n",
      "Epoch 26/30\n",
      "188/188 [==============================] - 23s 123ms/step - loss: 0.4046 - accuracy: 0.8161 - val_loss: 0.5074 - val_accuracy: 0.7950\n",
      "Epoch 27/30\n",
      "188/188 [==============================] - 23s 121ms/step - loss: 0.3820 - accuracy: 0.8274 - val_loss: 0.5048 - val_accuracy: 0.7850\n",
      "Epoch 28/30\n",
      "188/188 [==============================] - 23s 122ms/step - loss: 0.3925 - accuracy: 0.8246 - val_loss: 0.5188 - val_accuracy: 0.8040\n",
      "Epoch 29/30\n",
      "188/188 [==============================] - 23s 124ms/step - loss: 0.3736 - accuracy: 0.8322 - val_loss: 0.5343 - val_accuracy: 0.8085\n",
      "Epoch 30/30\n",
      "188/188 [==============================] - 19s 100ms/step - loss: 0.3839 - accuracy: 0.8251 - val_loss: 0.5141 - val_accuracy: 0.7900\n"
     ]
    }
   ],
   "source": [
    "\n",
    "# Compiling the CNN\n",
    "cnn.compile(optimizer = 'adam', loss = 'hinge', metrics = ['accuracy'])\n",
    "\n",
    "# Training the CNN on the Training set and evaluating it on the Test set\n",
    "r=cnn.fit(x = training_set, validation_data = val_set, epochs = 30)"
   ]
  },
  {
   "cell_type": "markdown",
   "id": "geological-stake",
   "metadata": {},
   "source": [
    "# visualizing the loss and accuracy\n"
   ]
  },
  {
   "cell_type": "code",
   "execution_count": 9,
   "id": "whole-explorer",
   "metadata": {},
   "outputs": [
    {
     "data": {
      "image/png": "[encoded data removed]",
      "text/plain": [
       "<Figure size 432x288 with 1 Axes>"
      ]
     },
     "metadata": {
      "needs_background": "light"
     },
     "output_type": "display_data"
    },
    {
     "data": {
      "image/png": "[encoded data removed]",
      "text/plain": [
       "<Figure size 432x288 with 1 Axes>"
      ]
     },
     "metadata": {
      "needs_background": "light"
     },
     "output_type": "display_data"
    },
    {
     "data": {
      "text/plain": [
       "<Figure size 432x288 with 0 Axes>"
      ]
     },
     "metadata": {},
     "output_type": "display_data"
    }
   ],
   "source": [
    "import matplotlib.pyplot as plt\n",
    "plt.plot(r.history['loss'], label='train loss')\n",
    "plt.plot(r.history['val_loss'], label='val loss')\n",
    "plt.legend()\n",
    "plt.show()\n",
    "plt.savefig('LossVal_loss')\n",
    "\n",
    "# plot the accuracy\n",
    "plt.plot(r.history['accuracy'], label='train acc')\n",
    "plt.plot(r.history['val_accuracy'], label='val acc')\n",
    "plt.legend()\n",
    "plt.show()\n",
    "plt.savefig('AccVal_acc')"
   ]
  },
  {
   "cell_type": "markdown",
   "id": "acceptable-brighton",
   "metadata": {},
   "source": [
    "# saving and loading model\n",
    "\n"
   ]
  },
  {
   "cell_type": "code",
   "execution_count": 10,
   "id": "duplicate-bullet",
   "metadata": {},
   "outputs": [],
   "source": [
    "\n",
    "from tensorflow.keras.models import load_model\n",
    "\n",
    "cnn.save('model_rcat_dog.h5')"
   ]
  },
  {
   "cell_type": "code",
   "execution_count": 27,
   "id": "approved-reputation",
   "metadata": {},
   "outputs": [],
   "source": [
    "from tensorflow.keras.models import load_model\n",
    " \n",
    "# load model\n",
    "model = load_model('model_rcat_dog.h5')"
   ]
  },
  {
   "cell_type": "markdown",
   "id": "common-damage",
   "metadata": {},
   "source": [
    "# Part 4 - Making a single prediction\n"
   ]
  },
  {
   "cell_type": "code",
   "execution_count": 24,
   "id": "likely-corrections",
   "metadata": {},
   "outputs": [],
   "source": [
    "test_image = image.load_img('image_classification/test/269.jpg', target_size = (64,64))\n",
    "test_image = image.img_to_array(test_image)\n",
    "test_image=test_image/255\n",
    "test_image = np.expand_dims(test_image, axis = 0)\n",
    "result = model.predict(test_image)"
   ]
  },
  {
   "cell_type": "code",
   "execution_count": 25,
   "id": "copyrighted-porter",
   "metadata": {},
   "outputs": [
    {
     "data": {
      "text/plain": [
       "array([[1.0308762]], dtype=float32)"
      ]
     },
     "execution_count": 25,
     "metadata": {},
     "output_type": "execute_result"
    }
   ],
   "source": [
    "result"
   ]
  },
  {
   "cell_type": "code",
   "execution_count": 26,
   "id": "agricultural-samuel",
   "metadata": {},
   "outputs": [
    {
     "name": "stdout",
     "output_type": "stream",
     "text": [
      "The image classified is dog\n"
     ]
    }
   ],
   "source": [
    "if result[0]<0:\n",
    "    print(\"The image classified is cat\")\n",
    "else:\n",
    "    print(\"The image classified is dog\")"
   ]
  },
  {
   "cell_type": "code",
   "execution_count": null,
   "id": "norwegian-secretary",
   "metadata": {},
   "outputs": [],
   "source": []
  }
 ],
 "metadata": {
  "kernelspec": {
   "display_name": "Python 3",
   "language": "python",
   "name": "python3"
  },
  "language_info": {
   "codemirror_mode": {
    "name": "ipython",
    "version": 3
   },
   "file_extension": ".py",
   "mimetype": "text/x-python",
   "name": "python",
   "nbconvert_exporter": "python",
   "pygments_lexer": "ipython3",
   "version": "3.6.13"
  }
 },
 "nbformat": 4,
 "nbformat_minor": 5
}
